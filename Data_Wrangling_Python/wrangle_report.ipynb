{
 "cells": [
  {
   "cell_type": "markdown",
   "metadata": {},
   "source": [
    "# Wrangle_Report\n",
    "\n",
    "\n",
    "## Gathering Data\n",
    "\n",
    "The first step is to understand the way to gethering data. Frist file, I needed to gather the data by inserting a csv file, I chose to use pandas to read this file, read_csv. For the second file, I imported one table from one website by importing request and then bring the URL into request, then I insert this file in Python. Lastly, I needed to transfer one txt format file into my python by import Json, then choose the columns I need from the txt file and put them into a dataframe.\n",
    "\n",
    "## Accessing Data\n",
    "\n",
    "Then I had a deep view on these 3 data set that I just gathered. I needed to find the tidiness and quality issues. As we learnt from the course. There are 3 rules for tidiness and another 5 rules for quality. So we need that the 3 files should be into one, and removed some data we do not need to make it tidier and also smaller. Then we need to find out the valid, consistent data by searching for the problems such like the type of value, the low case/upper case letter, the invalid/valid value in each columns.\n",
    "\n",
    "## Cleaning Data\n",
    "\n",
    "Lastly and also the most important thing is coding and cleaning the data. This is most complex part which you should find solution for each problem you just found (tidiness and quality), also look for the right code to rebuild the dataframe. For more details of coding please look at the project I did."
   ]
  },
  {
   "cell_type": "markdown",
   "metadata": {},
   "source": [
    "## Analysis and Visualization\n",
    "\n",
    "As we have already cleaned the dataset. Now is time to analyze it by visualizing the data, let's see what we can find?"
   ]
  },
  {
   "cell_type": "code",
   "execution_count": 1,
   "metadata": {},
   "outputs": [],
   "source": [
    "import matplotlib\n",
    "import matplotlib.pyplot as plt\n",
    "%matplotlib inline\n",
    "import pandas as pd\n",
    "import datetime as dt\n",
    "\n",
    "df = pd.read_csv('twitter_archive_master.csv')\n",
    "df['timestamp'] = pd.to_datetime(df['timestamp'])\n",
    "df.set_index('timestamp', inplace=True)"
   ]
  },
  {
   "cell_type": "code",
   "execution_count": 2,
   "metadata": {},
   "outputs": [
    {
     "data": {
      "text/html": [
       "<div>\n",
       "<style>\n",
       "    .dataframe thead tr:only-child th {\n",
       "        text-align: right;\n",
       "    }\n",
       "\n",
       "    .dataframe thead th {\n",
       "        text-align: left;\n",
       "    }\n",
       "\n",
       "    .dataframe tbody tr th {\n",
       "        vertical-align: top;\n",
       "    }\n",
       "</style>\n",
       "<table border=\"1\" class=\"dataframe\">\n",
       "  <thead>\n",
       "    <tr style=\"text-align: right;\">\n",
       "      <th></th>\n",
       "      <th>Unnamed: 0</th>\n",
       "      <th>tweet_id</th>\n",
       "      <th>source</th>\n",
       "      <th>text</th>\n",
       "      <th>expanded_urls</th>\n",
       "      <th>rating_numerator</th>\n",
       "      <th>rating_denominator</th>\n",
       "      <th>name</th>\n",
       "      <th>jpg_url</th>\n",
       "      <th>retweet_count</th>\n",
       "      <th>favorite_count</th>\n",
       "      <th>type_of_dog</th>\n",
       "      <th>rating</th>\n",
       "      <th>dog_count</th>\n",
       "      <th>Prediction</th>\n",
       "      <th>Confidence</th>\n",
       "    </tr>\n",
       "    <tr>\n",
       "      <th>timestamp</th>\n",
       "      <th></th>\n",
       "      <th></th>\n",
       "      <th></th>\n",
       "      <th></th>\n",
       "      <th></th>\n",
       "      <th></th>\n",
       "      <th></th>\n",
       "      <th></th>\n",
       "      <th></th>\n",
       "      <th></th>\n",
       "      <th></th>\n",
       "      <th></th>\n",
       "      <th></th>\n",
       "      <th></th>\n",
       "      <th></th>\n",
       "      <th></th>\n",
       "    </tr>\n",
       "  </thead>\n",
       "  <tbody>\n",
       "    <tr>\n",
       "      <th>2017-08-01 16:23:56</th>\n",
       "      <td>0</td>\n",
       "      <td>892420643555336193</td>\n",
       "      <td>&lt;a href=\"http://twitter.com/download/iphone\" r...</td>\n",
       "      <td>This is Phineas. He's a mystical boy. Only eve...</td>\n",
       "      <td>https://twitter.com/dog_rates/status/892420643...</td>\n",
       "      <td>13</td>\n",
       "      <td>10</td>\n",
       "      <td>Phineas</td>\n",
       "      <td>https://pbs.twimg.com/media/DGKD1-bXoAAIAUK.jpg</td>\n",
       "      <td>8842</td>\n",
       "      <td>39492</td>\n",
       "      <td>0</td>\n",
       "      <td>13.0</td>\n",
       "      <td>1.0</td>\n",
       "      <td>NaN</td>\n",
       "      <td>0.000000</td>\n",
       "    </tr>\n",
       "    <tr>\n",
       "      <th>2017-08-01 00:17:27</th>\n",
       "      <td>1</td>\n",
       "      <td>892177421306343426</td>\n",
       "      <td>&lt;a href=\"http://twitter.com/download/iphone\" r...</td>\n",
       "      <td>This is Tilly. She's just checking pup on you....</td>\n",
       "      <td>https://twitter.com/dog_rates/status/892177421...</td>\n",
       "      <td>13</td>\n",
       "      <td>10</td>\n",
       "      <td>Tilly</td>\n",
       "      <td>https://pbs.twimg.com/media/DGGmoV4XsAAUL6n.jpg</td>\n",
       "      <td>6480</td>\n",
       "      <td>33786</td>\n",
       "      <td>0</td>\n",
       "      <td>13.0</td>\n",
       "      <td>1.0</td>\n",
       "      <td>chihuahua</td>\n",
       "      <td>0.323581</td>\n",
       "    </tr>\n",
       "    <tr>\n",
       "      <th>2017-07-31 00:18:03</th>\n",
       "      <td>2</td>\n",
       "      <td>891815181378084864</td>\n",
       "      <td>&lt;a href=\"http://twitter.com/download/iphone\" r...</td>\n",
       "      <td>This is Archie. He is a rare Norwegian Pouncin...</td>\n",
       "      <td>https://twitter.com/dog_rates/status/891815181...</td>\n",
       "      <td>12</td>\n",
       "      <td>10</td>\n",
       "      <td>Archie</td>\n",
       "      <td>https://pbs.twimg.com/media/DGBdLU1WsAANxJ9.jpg</td>\n",
       "      <td>4301</td>\n",
       "      <td>25445</td>\n",
       "      <td>0</td>\n",
       "      <td>12.0</td>\n",
       "      <td>1.0</td>\n",
       "      <td>chihuahua</td>\n",
       "      <td>0.716012</td>\n",
       "    </tr>\n",
       "    <tr>\n",
       "      <th>2017-07-30 15:58:51</th>\n",
       "      <td>3</td>\n",
       "      <td>891689557279858688</td>\n",
       "      <td>&lt;a href=\"http://twitter.com/download/iphone\" r...</td>\n",
       "      <td>This is Darla. She commenced a snooze mid meal...</td>\n",
       "      <td>https://twitter.com/dog_rates/status/891689557...</td>\n",
       "      <td>13</td>\n",
       "      <td>10</td>\n",
       "      <td>Darla</td>\n",
       "      <td>https://pbs.twimg.com/media/DF_q7IAWsAEuuN8.jpg</td>\n",
       "      <td>8925</td>\n",
       "      <td>42863</td>\n",
       "      <td>0</td>\n",
       "      <td>13.0</td>\n",
       "      <td>1.0</td>\n",
       "      <td>labrador retriever</td>\n",
       "      <td>0.168086</td>\n",
       "    </tr>\n",
       "    <tr>\n",
       "      <th>2017-07-29 16:00:24</th>\n",
       "      <td>4</td>\n",
       "      <td>891327558926688256</td>\n",
       "      <td>&lt;a href=\"http://twitter.com/download/iphone\" r...</td>\n",
       "      <td>This is Franklin. He would like you to stop ca...</td>\n",
       "      <td>https://twitter.com/dog_rates/status/891327558...</td>\n",
       "      <td>12</td>\n",
       "      <td>10</td>\n",
       "      <td>Franklin</td>\n",
       "      <td>https://pbs.twimg.com/media/DF6hr6BUMAAzZgT.jpg</td>\n",
       "      <td>9721</td>\n",
       "      <td>41016</td>\n",
       "      <td>0</td>\n",
       "      <td>12.0</td>\n",
       "      <td>1.0</td>\n",
       "      <td>basset</td>\n",
       "      <td>0.555712</td>\n",
       "    </tr>\n",
       "  </tbody>\n",
       "</table>\n",
       "</div>"
      ],
      "text/plain": [
       "                     Unnamed: 0            tweet_id  \\\n",
       "timestamp                                             \n",
       "2017-08-01 16:23:56           0  892420643555336193   \n",
       "2017-08-01 00:17:27           1  892177421306343426   \n",
       "2017-07-31 00:18:03           2  891815181378084864   \n",
       "2017-07-30 15:58:51           3  891689557279858688   \n",
       "2017-07-29 16:00:24           4  891327558926688256   \n",
       "\n",
       "                                                                source  \\\n",
       "timestamp                                                                \n",
       "2017-08-01 16:23:56  <a href=\"http://twitter.com/download/iphone\" r...   \n",
       "2017-08-01 00:17:27  <a href=\"http://twitter.com/download/iphone\" r...   \n",
       "2017-07-31 00:18:03  <a href=\"http://twitter.com/download/iphone\" r...   \n",
       "2017-07-30 15:58:51  <a href=\"http://twitter.com/download/iphone\" r...   \n",
       "2017-07-29 16:00:24  <a href=\"http://twitter.com/download/iphone\" r...   \n",
       "\n",
       "                                                                  text  \\\n",
       "timestamp                                                                \n",
       "2017-08-01 16:23:56  This is Phineas. He's a mystical boy. Only eve...   \n",
       "2017-08-01 00:17:27  This is Tilly. She's just checking pup on you....   \n",
       "2017-07-31 00:18:03  This is Archie. He is a rare Norwegian Pouncin...   \n",
       "2017-07-30 15:58:51  This is Darla. She commenced a snooze mid meal...   \n",
       "2017-07-29 16:00:24  This is Franklin. He would like you to stop ca...   \n",
       "\n",
       "                                                         expanded_urls  \\\n",
       "timestamp                                                                \n",
       "2017-08-01 16:23:56  https://twitter.com/dog_rates/status/892420643...   \n",
       "2017-08-01 00:17:27  https://twitter.com/dog_rates/status/892177421...   \n",
       "2017-07-31 00:18:03  https://twitter.com/dog_rates/status/891815181...   \n",
       "2017-07-30 15:58:51  https://twitter.com/dog_rates/status/891689557...   \n",
       "2017-07-29 16:00:24  https://twitter.com/dog_rates/status/891327558...   \n",
       "\n",
       "                     rating_numerator  rating_denominator      name  \\\n",
       "timestamp                                                             \n",
       "2017-08-01 16:23:56                13                  10   Phineas   \n",
       "2017-08-01 00:17:27                13                  10     Tilly   \n",
       "2017-07-31 00:18:03                12                  10    Archie   \n",
       "2017-07-30 15:58:51                13                  10     Darla   \n",
       "2017-07-29 16:00:24                12                  10  Franklin   \n",
       "\n",
       "                                                             jpg_url  \\\n",
       "timestamp                                                              \n",
       "2017-08-01 16:23:56  https://pbs.twimg.com/media/DGKD1-bXoAAIAUK.jpg   \n",
       "2017-08-01 00:17:27  https://pbs.twimg.com/media/DGGmoV4XsAAUL6n.jpg   \n",
       "2017-07-31 00:18:03  https://pbs.twimg.com/media/DGBdLU1WsAANxJ9.jpg   \n",
       "2017-07-30 15:58:51  https://pbs.twimg.com/media/DF_q7IAWsAEuuN8.jpg   \n",
       "2017-07-29 16:00:24  https://pbs.twimg.com/media/DF6hr6BUMAAzZgT.jpg   \n",
       "\n",
       "                     retweet_count  favorite_count type_of_dog  rating  \\\n",
       "timestamp                                                                \n",
       "2017-08-01 16:23:56           8842           39492           0    13.0   \n",
       "2017-08-01 00:17:27           6480           33786           0    13.0   \n",
       "2017-07-31 00:18:03           4301           25445           0    12.0   \n",
       "2017-07-30 15:58:51           8925           42863           0    13.0   \n",
       "2017-07-29 16:00:24           9721           41016           0    12.0   \n",
       "\n",
       "                     dog_count          Prediction  Confidence  \n",
       "timestamp                                                       \n",
       "2017-08-01 16:23:56        1.0                 NaN    0.000000  \n",
       "2017-08-01 00:17:27        1.0           chihuahua    0.323581  \n",
       "2017-07-31 00:18:03        1.0           chihuahua    0.716012  \n",
       "2017-07-30 15:58:51        1.0  labrador retriever    0.168086  \n",
       "2017-07-29 16:00:24        1.0              basset    0.555712  "
      ]
     },
     "execution_count": 2,
     "metadata": {},
     "output_type": "execute_result"
    }
   ],
   "source": [
    "df.head()"
   ]
  },
  {
   "cell_type": "markdown",
   "metadata": {},
   "source": [
    "## Favorite, retweets and ratings"
   ]
  },
  {
   "cell_type": "code",
   "execution_count": 3,
   "metadata": {},
   "outputs": [
    {
     "data": {
      "text/plain": [
       "Text(0,0.5,'Count')"
      ]
     },
     "execution_count": 3,
     "metadata": {},
     "output_type": "execute_result"
    },
    {
     "data": {
      "image/png": "[encoded data removed]",
      "text/plain": [
       "<matplotlib.figure.Figure at 0x7f22cc7f9710>"
      ]
     },
     "metadata": {},
     "output_type": "display_data"
    }
   ],
   "source": [
    "df[['favorite_count', 'retweet_count']].plot(style = '.')\n",
    "plt.title('Favorites and Retweets over Time')\n",
    "plt.xlabel('Date')\n",
    "plt.ylabel('Count')"
   ]
  },
  {
   "cell_type": "code",
   "execution_count": 4,
   "metadata": {},
   "outputs": [
    {
     "data": {
      "text/html": [
       "<div>\n",
       "<style>\n",
       "    .dataframe thead tr:only-child th {\n",
       "        text-align: right;\n",
       "    }\n",
       "\n",
       "    .dataframe thead th {\n",
       "        text-align: left;\n",
       "    }\n",
       "\n",
       "    .dataframe tbody tr th {\n",
       "        vertical-align: top;\n",
       "    }\n",
       "</style>\n",
       "<table border=\"1\" class=\"dataframe\">\n",
       "  <thead>\n",
       "    <tr style=\"text-align: right;\">\n",
       "      <th></th>\n",
       "      <th>favorite_count</th>\n",
       "      <th>retweet_count</th>\n",
       "    </tr>\n",
       "  </thead>\n",
       "  <tbody>\n",
       "    <tr>\n",
       "      <th>favorite_count</th>\n",
       "      <td>1.000000</td>\n",
       "      <td>0.720272</td>\n",
       "    </tr>\n",
       "    <tr>\n",
       "      <th>retweet_count</th>\n",
       "      <td>0.720272</td>\n",
       "      <td>1.000000</td>\n",
       "    </tr>\n",
       "  </tbody>\n",
       "</table>\n",
       "</div>"
      ],
      "text/plain": [
       "                favorite_count  retweet_count\n",
       "favorite_count        1.000000       0.720272\n",
       "retweet_count         0.720272       1.000000"
      ]
     },
     "execution_count": 4,
     "metadata": {},
     "output_type": "execute_result"
    }
   ],
   "source": [
    "df[['favorite_count', 'retweet_count']].corr(method='pearson')"
   ]
  },
  {
   "cell_type": "markdown",
   "metadata": {},
   "source": [
    "** As this picture shows that the correlation of favorites_counts and retweets_counts is positive over the time. \n",
    "More favorites and more retweets will be generated.**"
   ]
  },
  {
   "cell_type": "code",
   "execution_count": 5,
   "metadata": {},
   "outputs": [
    {
     "data": {
      "text/plain": [
       "Text(0,0.5,'Rating')"
      ]
     },
     "execution_count": 5,
     "metadata": {},
     "output_type": "execute_result"
    },
    {
     "data": {
      "image/png": "[encoded data removed]",
      "text/plain": [
       "<matplotlib.figure.Figure at 0x7f22cc7f9048>"
      ]
     },
     "metadata": {},
     "output_type": "display_data"
    }
   ],
   "source": [
    "df.plot(y ='rating', ylim=[0,14], style = '.')\n",
    "plt.title('Rating Increase over Time')\n",
    "plt.xlabel('Date')\n",
    "plt.ylabel('Rating')"
   ]
  },
  {
   "cell_type": "markdown",
   "metadata": {},
   "source": [
    "** From the graph we can clearly see that the people gave higher and higer score to the dogs from end of the 2015 to the middle of 2017. Since February 2017, there is hardly score less than 10. People tend to give more appreciations to these cuties.**"
   ]
  },
  {
   "cell_type": "markdown",
   "metadata": {},
   "source": [
    "## Type of dogs and their ratings"
   ]
  },
  {
   "cell_type": "code",
   "execution_count": 6,
   "metadata": {},
   "outputs": [
    {
     "name": "stderr",
     "output_type": "stream",
     "text": [
      "/opt/conda/lib/python3.6/site-packages/numpy/core/fromnumeric.py:57: FutureWarning: reshape is deprecated and will raise in a subsequent release. Please use .values.reshape(...) instead\n",
      "  return getattr(obj, method)(*args, **kwds)\n"
     ]
    },
    {
     "data": {
      "text/plain": [
       "<matplotlib.axes._subplots.AxesSubplot at 0x7f22a64d9f28>"
      ]
     },
     "execution_count": 6,
     "metadata": {},
     "output_type": "execute_result"
    },
    {
     "data": {
      "image/png": "[encoded data removed]",
      "text/plain": [
       "<matplotlib.figure.Figure at 0x7f22d43a1da0>"
      ]
     },
     "metadata": {},
     "output_type": "display_data"
    }
   ],
   "source": [
    "df.boxplot(column=['rating'], by=['type_of_dog'])"
   ]
  },
  {
   "cell_type": "code",
   "execution_count": 7,
   "metadata": {},
   "outputs": [
    {
     "data": {
      "text/html": [
       "<div>\n",
       "<style>\n",
       "    .dataframe thead tr:only-child th {\n",
       "        text-align: right;\n",
       "    }\n",
       "\n",
       "    .dataframe thead th {\n",
       "        text-align: left;\n",
       "    }\n",
       "\n",
       "    .dataframe tbody tr th {\n",
       "        vertical-align: top;\n",
       "    }\n",
       "</style>\n",
       "<table border=\"1\" class=\"dataframe\">\n",
       "  <thead>\n",
       "    <tr style=\"text-align: right;\">\n",
       "      <th></th>\n",
       "      <th>count</th>\n",
       "      <th>mean</th>\n",
       "      <th>std</th>\n",
       "      <th>min</th>\n",
       "      <th>25%</th>\n",
       "      <th>50%</th>\n",
       "      <th>75%</th>\n",
       "      <th>max</th>\n",
       "    </tr>\n",
       "    <tr>\n",
       "      <th>type_of_dog</th>\n",
       "      <th></th>\n",
       "      <th></th>\n",
       "      <th></th>\n",
       "      <th></th>\n",
       "      <th></th>\n",
       "      <th></th>\n",
       "      <th></th>\n",
       "      <th></th>\n",
       "    </tr>\n",
       "  </thead>\n",
       "  <tbody>\n",
       "    <tr>\n",
       "      <th>0</th>\n",
       "      <td>8744.0</td>\n",
       "      <td>12.282424</td>\n",
       "      <td>42.321628</td>\n",
       "      <td>0.0</td>\n",
       "      <td>10.0</td>\n",
       "      <td>11.0</td>\n",
       "      <td>12.00</td>\n",
       "      <td>1776.0</td>\n",
       "    </tr>\n",
       "    <tr>\n",
       "      <th>doggo</th>\n",
       "      <td>97.0</td>\n",
       "      <td>11.804124</td>\n",
       "      <td>1.558840</td>\n",
       "      <td>5.0</td>\n",
       "      <td>11.0</td>\n",
       "      <td>12.0</td>\n",
       "      <td>13.00</td>\n",
       "      <td>14.0</td>\n",
       "    </tr>\n",
       "    <tr>\n",
       "      <th>floofer</th>\n",
       "      <td>10.0</td>\n",
       "      <td>11.800000</td>\n",
       "      <td>1.032796</td>\n",
       "      <td>10.0</td>\n",
       "      <td>11.0</td>\n",
       "      <td>12.0</td>\n",
       "      <td>12.75</td>\n",
       "      <td>13.0</td>\n",
       "    </tr>\n",
       "    <tr>\n",
       "      <th>pupper</th>\n",
       "      <td>251.0</td>\n",
       "      <td>10.805857</td>\n",
       "      <td>1.742541</td>\n",
       "      <td>3.0</td>\n",
       "      <td>10.0</td>\n",
       "      <td>11.0</td>\n",
       "      <td>12.00</td>\n",
       "      <td>14.0</td>\n",
       "    </tr>\n",
       "    <tr>\n",
       "      <th>puppo</th>\n",
       "      <td>30.0</td>\n",
       "      <td>12.133333</td>\n",
       "      <td>1.166585</td>\n",
       "      <td>9.0</td>\n",
       "      <td>12.0</td>\n",
       "      <td>12.0</td>\n",
       "      <td>13.00</td>\n",
       "      <td>14.0</td>\n",
       "    </tr>\n",
       "  </tbody>\n",
       "</table>\n",
       "</div>"
      ],
      "text/plain": [
       "              count       mean        std   min   25%   50%    75%     max\n",
       "type_of_dog                                                               \n",
       "0            8744.0  12.282424  42.321628   0.0  10.0  11.0  12.00  1776.0\n",
       "doggo          97.0  11.804124   1.558840   5.0  11.0  12.0  13.00    14.0\n",
       "floofer        10.0  11.800000   1.032796  10.0  11.0  12.0  12.75    13.0\n",
       "pupper        251.0  10.805857   1.742541   3.0  10.0  11.0  12.00    14.0\n",
       "puppo          30.0  12.133333   1.166585   9.0  12.0  12.0  13.00    14.0"
      ]
     },
     "execution_count": 7,
     "metadata": {},
     "output_type": "execute_result"
    }
   ],
   "source": [
    "df.groupby('type_of_dog')['rating'].describe()"
   ]
  },
  {
   "cell_type": "markdown",
   "metadata": {},
   "source": [
    "** From this boxplot graph you can see that pupper get much lower rate than others, the  average score is 10 is 1 score less than the second rated type, floofer. And 50% of the puppers are rated only 11.**"
   ]
  },
  {
   "cell_type": "markdown",
   "metadata": {},
   "source": [
    "## Dog type prediction and the confidence level"
   ]
  },
  {
   "cell_type": "code",
   "execution_count": 8,
   "metadata": {},
   "outputs": [
    {
     "data": {
      "text/plain": [
       "Text(0,0.5,'Counts')"
      ]
     },
     "execution_count": 8,
     "metadata": {},
     "output_type": "execute_result"
    },
    {
     "data": {
      "image/png": "[encoded data removed]",
      "text/plain": [
       "<matplotlib.figure.Figure at 0x7f22a65bc5c0>"
      ]
     },
     "metadata": {},
     "output_type": "display_data"
    }
   ],
   "source": [
    "Top20 = df['Prediction'].value_counts().head(20)\n",
    "Top20.plot(kind='bar')\n",
    "plt.title('The top 20 most predicted dogs')\n",
    "plt.xlabel('Dog prediction')\n",
    "plt.ylabel('Counts')"
   ]
  },
  {
   "cell_type": "markdown",
   "metadata": {},
   "source": [
    "** We listed the prediction of the type of dogs, The golden_retriever is the most predicted dog. But we are not sure whether the prediction is right.**"
   ]
  },
  {
   "cell_type": "code",
   "execution_count": 9,
   "metadata": {},
   "outputs": [
    {
     "data": {
      "text/plain": [
       "Prediction\n",
       "bouvier des flandres              0.082610\n",
       "bedlington terrier                0.286043\n",
       "australian terrier                0.307584\n",
       "afghan hound                      0.394129\n",
       "bluetick                          0.408187\n",
       "border terrier                    0.464345\n",
       "basenji                           0.465189\n",
       "beagle                            0.495778\n",
       "appenzeller                       0.503665\n",
       "bloodhound                        0.504472\n",
       "boston bull                       0.512296\n",
       "borzoi                            0.515683\n",
       "basset                            0.522428\n",
       "american staffordshire terrier    0.527359\n",
       "border collie                     0.576845\n",
       "airedale                          0.583771\n",
       "boxer                             0.638353\n",
       "blenheim spaniel                  0.668075\n",
       "bernese mountain dog              0.778240\n",
       "black-and-tan coonhound           0.854861\n",
       "Name: Confidence, dtype: float64"
      ]
     },
     "execution_count": 9,
     "metadata": {},
     "output_type": "execute_result"
    }
   ],
   "source": [
    "# Just make a small exercise before draw another graph, let's see what kind of dog\n",
    "# has the highest confidence level for the prediction.\n",
    "Top20 = df.groupby('Prediction')['Confidence'].mean().head(20).sort_values()\n",
    "Top20"
   ]
  },
  {
   "cell_type": "code",
   "execution_count": 10,
   "metadata": {},
   "outputs": [
    {
     "data": {
      "text/plain": [
       "Text(0,0.5,'Confidence')"
      ]
     },
     "execution_count": 10,
     "metadata": {},
     "output_type": "execute_result"
    },
    {
     "data": {
      "image/png": "[encoded data removed]",
      "text/plain": [
       "<matplotlib.figure.Figure at 0x7f22a6437a58>"
      ]
     },
     "metadata": {},
     "output_type": "display_data"
    }
   ],
   "source": [
    "Top20 = df.groupby('Prediction')['Confidence'].mean().head(20).sort_values()\n",
    "Top20.plot(kind='bar')\n",
    "plt.title('The top 20 most predicted dogs')\n",
    "plt.xlabel('Dog prediction')\n",
    "plt.ylabel('Confidence')"
   ]
  },
  {
   "cell_type": "markdown",
   "metadata": {},
   "source": [
    "** As we can see our graph and also the list we showed before. Golden retreiver is not the type of dog has the highest confidence level for the prediction. The top 3 are Bernese_mountain_dog, Brittany_spaniel and Doberman.**"
   ]
  },
  {
   "cell_type": "code",
   "execution_count": null,
   "metadata": {},
   "outputs": [],
   "source": []
  }
 ],
 "metadata": {
  "kernelspec": {
   "display_name": "Python 3",
   "language": "python",
   "name": "python3"
  },
  "language_info": {
   "codemirror_mode": {
    "name": "ipython",
    "version": 3
   },
   "file_extension": ".py",
   "mimetype": "text/x-python",
   "name": "python",
   "nbconvert_exporter": "python",
   "pygments_lexer": "ipython3",
   "version": "3.6.3"
  }
 },
 "nbformat": 4,
 "nbformat_minor": 2
}
